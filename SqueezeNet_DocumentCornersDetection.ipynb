{
  "nbformat": 4,
  "nbformat_minor": 0,
  "metadata": {
    "colab": {
      "name": "SqueezeNet-DocumentCornersDetection.ipynb",
      "provenance": [],
      "collapsed_sections": []
    },
    "kernelspec": {
      "display_name": "Python 3",
      "name": "python3"
    },
    "language_info": {
      "name": "python"
    },
    "accelerator": "GPU"
  },
  "cells": [
    {
      "cell_type": "markdown",
      "metadata": {
        "id": "DkDD0HlsO6ve"
      },
      "source": [
        "# **IMPORTS** "
      ]
    },
    {
      "cell_type": "code",
      "metadata": {
        "id": "eO5NeWi7E-Vt"
      },
      "source": [
        "# Imports here\n",
        "%matplotlib inline\n",
        "\n",
        "import numpy as np\n",
        "import matplotlib.pyplot as plt\n",
        "import torch\n",
        "import torch.nn as nn\n",
        "import torch.nn.init as init\n",
        "import torch.optim as optim\n",
        "from torch.autograd import Variable\n",
        "from torchvision import datasets,models,transforms,utils\n",
        "import copy\n",
        "import time\n",
        "from collections import OrderedDict\n",
        "from PIL import Image\n",
        "from typing import Any\n",
        "import math\n",
        "import operator\n",
        "import functools"
      ],
      "execution_count": 18,
      "outputs": []
    },
    {
      "cell_type": "markdown",
      "metadata": {
        "id": "bCWaA036PD4q"
      },
      "source": [
        "# **CHECK ALLOCATED GPU** "
      ]
    },
    {
      "cell_type": "code",
      "metadata": {
        "colab": {
          "base_uri": "https://localhost:8080/"
        },
        "id": "f1PyB6lrzfUF",
        "outputId": "e2e98125-5614-457d-8daf-9dafaa00ec0b"
      },
      "source": [
        "!nvidia-smi"
      ],
      "execution_count": 19,
      "outputs": [
        {
          "output_type": "stream",
          "text": [
            "Sun Jun 27 06:22:54 2021       \n",
            "+-----------------------------------------------------------------------------+\n",
            "| NVIDIA-SMI 465.27       Driver Version: 460.32.03    CUDA Version: 11.2     |\n",
            "|-------------------------------+----------------------+----------------------+\n",
            "| GPU  Name        Persistence-M| Bus-Id        Disp.A | Volatile Uncorr. ECC |\n",
            "| Fan  Temp  Perf  Pwr:Usage/Cap|         Memory-Usage | GPU-Util  Compute M. |\n",
            "|                               |                      |               MIG M. |\n",
            "|===============================+======================+======================|\n",
            "|   0  Tesla T4            Off  | 00000000:00:04.0 Off |                    0 |\n",
            "| N/A   38C    P8     9W /  70W |      0MiB / 15109MiB |      0%      Default |\n",
            "|                               |                      |                  N/A |\n",
            "+-------------------------------+----------------------+----------------------+\n",
            "                                                                               \n",
            "+-----------------------------------------------------------------------------+\n",
            "| Processes:                                                                  |\n",
            "|  GPU   GI   CI        PID   Type   Process name                  GPU Memory |\n",
            "|        ID   ID                                                   Usage      |\n",
            "|=============================================================================|\n",
            "|  No running processes found                                                 |\n",
            "+-----------------------------------------------------------------------------+\n"
          ],
          "name": "stdout"
        }
      ]
    },
    {
      "cell_type": "markdown",
      "metadata": {
        "id": "mtX7X-qmPIIP"
      },
      "source": [
        "# **TORCH VERSION** "
      ]
    },
    {
      "cell_type": "code",
      "metadata": {
        "colab": {
          "base_uri": "https://localhost:8080/",
          "height": 35
        },
        "id": "FjP5djltXfC8",
        "outputId": "a79915ce-3cd6-4cf6-9626-604d0d6714bb"
      },
      "source": [
        "torch.__version__"
      ],
      "execution_count": 20,
      "outputs": [
        {
          "output_type": "execute_result",
          "data": {
            "application/vnd.google.colaboratory.intrinsic+json": {
              "type": "string"
            },
            "text/plain": [
              "'1.9.0+cu102'"
            ]
          },
          "metadata": {
            "tags": []
          },
          "execution_count": 20
        }
      ]
    },
    {
      "cell_type": "markdown",
      "metadata": {
        "id": "PYDkrQg3PKRX"
      },
      "source": [
        "# **MOUNT DRIVE** "
      ]
    },
    {
      "cell_type": "code",
      "metadata": {
        "colab": {
          "base_uri": "https://localhost:8080/"
        },
        "id": "qWBue5fTFaXK",
        "outputId": "447477ee-6918-4ecb-cb1a-77de1705de5b"
      },
      "source": [
        "from google.colab import drive\n",
        "drive.mount('/content/gdrive')"
      ],
      "execution_count": 21,
      "outputs": [
        {
          "output_type": "stream",
          "text": [
            "Mounted at /content/gdrive\n"
          ],
          "name": "stdout"
        }
      ]
    },
    {
      "cell_type": "markdown",
      "metadata": {
        "id": "cjEnEj9WPNsx"
      },
      "source": [
        "# **MOVE TO DATA DIRECTORY** "
      ]
    },
    {
      "cell_type": "code",
      "metadata": {
        "colab": {
          "base_uri": "https://localhost:8080/"
        },
        "id": "6ycZ1W7nF2-Y",
        "outputId": "5500fc05-52d9-444b-878f-a64d30b612e9"
      },
      "source": [
        "cd gdrive/MyDrive/SqueezeNet/dataset/"
      ],
      "execution_count": 22,
      "outputs": [
        {
          "output_type": "stream",
          "text": [
            "/content/gdrive/MyDrive/SqueezeNet/dataset\n"
          ],
          "name": "stdout"
        }
      ]
    },
    {
      "cell_type": "markdown",
      "metadata": {
        "id": "WNFopPlYPTIA"
      },
      "source": [
        "# **LOAD IMAGES & LABELS FROM .MAT FILE** "
      ]
    },
    {
      "cell_type": "code",
      "metadata": {
        "id": "FaeLE22OF7OG"
      },
      "source": [
        "import scipy.io\n",
        "images = scipy.io.loadmat('dtd_white_indoor_6600artimg.mat')['allartimgs1']\n",
        "labels = scipy.io.loadmat('dtd_white_indoor_6600corners.mat')['allcorners1']"
      ],
      "execution_count": 23,
      "outputs": []
    },
    {
      "cell_type": "markdown",
      "metadata": {
        "id": "_QbP_OdGPeNo"
      },
      "source": [
        "# **DEFINING TRANSFORM FOR DATA PREPROCESSING** "
      ]
    },
    {
      "cell_type": "code",
      "metadata": {
        "id": "2fR7g6YzGaFn"
      },
      "source": [
        "from torchvision import transforms\n",
        "transform = transforms.Compose([\n",
        "            #transforms.Resize((224, 224)),\n",
        "            transforms.ToTensor(),\n",
        "            transforms.Normalize(mean=[0.485, 0.456, 0.406], std=[0.229, 0.224, 0.225])\n",
        "])"
      ],
      "execution_count": 24,
      "outputs": []
    },
    {
      "cell_type": "code",
      "metadata": {
        "colab": {
          "base_uri": "https://localhost:8080/"
        },
        "id": "PxXeAc7viJ_L",
        "outputId": "f633681b-1674-4aba-efda-81f957131bc2"
      },
      "source": [
        "transform(images[1]).size()"
      ],
      "execution_count": 25,
      "outputs": [
        {
          "output_type": "execute_result",
          "data": {
            "text/plain": [
              "torch.Size([3, 384, 256])"
            ]
          },
          "metadata": {
            "tags": []
          },
          "execution_count": 25
        }
      ]
    },
    {
      "cell_type": "code",
      "metadata": {
        "colab": {
          "base_uri": "https://localhost:8080/"
        },
        "id": "fz6BhI2Oz_Le",
        "outputId": "761318f7-e8d4-47e1-8154-e8546deb54ee"
      },
      "source": [
        "transform(images[1])"
      ],
      "execution_count": 26,
      "outputs": [
        {
          "output_type": "execute_result",
          "data": {
            "text/plain": [
              "tensor([[[0.4508, 0.4679, 0.4508,  ..., 0.6221, 0.6221, 0.6563],\n",
              "         [0.4508, 0.4337, 0.4508,  ..., 0.6392, 0.6392, 0.6563],\n",
              "         [0.4337, 0.4166, 0.4337,  ..., 0.6392, 0.6392, 0.6563],\n",
              "         ...,\n",
              "         [0.2453, 0.2453, 0.2111,  ..., 1.1015, 1.1529, 1.1187],\n",
              "         [0.2453, 0.2282, 0.2111,  ..., 1.0673, 1.1187, 1.0502],\n",
              "         [0.2453, 0.2111, 0.1939,  ..., 1.0673, 1.0844, 1.0159]],\n",
              "\n",
              "        [[0.5553, 0.5553, 0.5378,  ..., 0.7304, 0.7304, 0.7654],\n",
              "         [0.5378, 0.5378, 0.5378,  ..., 0.7479, 0.7479, 0.7654],\n",
              "         [0.5378, 0.5203, 0.5378,  ..., 0.7479, 0.7479, 0.7654],\n",
              "         ...,\n",
              "         [0.3452, 0.3452, 0.3102,  ..., 1.2206, 1.2731, 1.2381],\n",
              "         [0.3452, 0.3277, 0.3102,  ..., 1.1856, 1.2381, 1.1681],\n",
              "         [0.3452, 0.3102, 0.3102,  ..., 1.2031, 1.2031, 1.1331]],\n",
              "\n",
              "        [[0.7751, 0.7751, 0.7576,  ..., 0.9494, 0.9494, 0.9842],\n",
              "         [0.7576, 0.7576, 0.7576,  ..., 0.9668, 0.9668, 0.9842],\n",
              "         [0.7576, 0.7402, 0.7576,  ..., 0.9668, 0.9668, 0.9842],\n",
              "         ...,\n",
              "         [0.5659, 0.5659, 0.5311,  ..., 1.4374, 1.4897, 1.4548],\n",
              "         [0.5659, 0.5485, 0.5311,  ..., 1.4025, 1.4548, 1.3851],\n",
              "         [0.5659, 0.5311, 0.5311,  ..., 1.4200, 1.4200, 1.3502]]])"
            ]
          },
          "metadata": {
            "tags": []
          },
          "execution_count": 26
        }
      ]
    },
    {
      "cell_type": "code",
      "metadata": {
        "id": "LW1BZLHqhKoY",
        "colab": {
          "base_uri": "https://localhost:8080/"
        },
        "outputId": "326eb4db-9cda-430e-cdc5-610b6c13080e"
      },
      "source": [
        "images_tensor = torch.empty(6615,3,384,256).cuda()\n",
        "y = 0\n",
        "for i in range(6615):\n",
        "  y += 1\n",
        "  images_tensor[i] = transform(images[i])\n",
        "  if y % 500 == 0:\n",
        "    print(y)"
      ],
      "execution_count": 27,
      "outputs": [
        {
          "output_type": "stream",
          "text": [
            "500\n",
            "1000\n",
            "1500\n",
            "2000\n",
            "2500\n",
            "3000\n",
            "3500\n",
            "4000\n",
            "4500\n",
            "5000\n",
            "5500\n",
            "6000\n",
            "6500\n"
          ],
          "name": "stdout"
        }
      ]
    },
    {
      "cell_type": "code",
      "metadata": {
        "colab": {
          "base_uri": "https://localhost:8080/"
        },
        "id": "OdssT-ETaLft",
        "outputId": "715d366d-8c61-415e-9da3-80fe90cce34b"
      },
      "source": [
        "print(images_tensor.size())\n",
        "labels = torch.from_numpy(labels)\n",
        "print(labels.size())"
      ],
      "execution_count": 28,
      "outputs": [
        {
          "output_type": "stream",
          "text": [
            "torch.Size([6615, 3, 384, 256])\n",
            "torch.Size([6615, 8])\n"
          ],
          "name": "stdout"
        }
      ]
    },
    {
      "cell_type": "code",
      "metadata": {
        "colab": {
          "base_uri": "https://localhost:8080/"
        },
        "id": "1uQ8vp9sG5UN",
        "outputId": "816997ae-fa97-468c-f339-99c433529c98"
      },
      "source": [
        "labels[6000] "
      ],
      "execution_count": 29,
      "outputs": [
        {
          "output_type": "execute_result",
          "data": {
            "text/plain": [
              "tensor([ 92.3213, 132.3761, 148.7622, 124.1709, 169.7260, 334.2222,  81.8394,\n",
              "        323.2821], dtype=torch.float64)"
            ]
          },
          "metadata": {
            "tags": []
          },
          "execution_count": 29
        }
      ]
    },
    {
      "cell_type": "code",
      "metadata": {
        "colab": {
          "base_uri": "https://localhost:8080/"
        },
        "id": "pXY6-tR7q6D8",
        "outputId": "b832a1d0-d790-4897-e181-549cda4257c8"
      },
      "source": [
        "images_tensor[6000]"
      ],
      "execution_count": 30,
      "outputs": [
        {
          "output_type": "execute_result",
          "data": {
            "text/plain": [
              "tensor([[[-0.5767, -0.5082, -0.3883,  ..., -0.7137, -0.7650, -0.7650],\n",
              "         [-0.5767, -0.4911, -0.3883,  ..., -0.7308, -0.7822, -0.7993],\n",
              "         [-0.5596, -0.4911, -0.3883,  ..., -0.7479, -0.7993, -0.8335],\n",
              "         ...,\n",
              "         [ 0.0398,  0.0569,  0.0741,  ...,  0.6734,  0.6392,  0.6392],\n",
              "         [ 0.0398,  0.0569,  0.0741,  ...,  0.6563,  0.6221,  0.6221],\n",
              "         [ 0.0398,  0.0569,  0.0741,  ...,  0.6392,  0.6049,  0.6049]],\n",
              "\n",
              "        [[-0.7752, -0.7052, -0.5476,  ..., -0.9153, -0.9503, -0.9503],\n",
              "         [-0.7752, -0.6877, -0.5476,  ..., -0.9328, -0.9678, -0.9853],\n",
              "         [-0.7752, -0.6702, -0.5476,  ..., -0.9503, -0.9853, -1.0203],\n",
              "         ...,\n",
              "         [ 0.0651,  0.0826,  0.1001,  ...,  0.7129,  0.6779,  0.6779],\n",
              "         [ 0.0651,  0.0651,  0.1001,  ...,  0.6954,  0.6604,  0.6604],\n",
              "         [ 0.0651,  0.0651,  0.1001,  ...,  0.6779,  0.6429,  0.6429]],\n",
              "\n",
              "        [[-0.8458, -0.7587, -0.6367,  ..., -1.0898, -1.1247, -1.1596],\n",
              "         [-0.8458, -0.7587, -0.6367,  ..., -1.1073, -1.1596, -1.1770],\n",
              "         [-0.8284, -0.7413, -0.6193,  ..., -1.1073, -1.1770, -1.2119],\n",
              "         ...,\n",
              "         [ 0.0082,  0.0082,  0.0431,  ...,  0.7751,  0.7576,  0.7576],\n",
              "         [ 0.0082,  0.0082,  0.0431,  ...,  0.7751,  0.7402,  0.7402],\n",
              "         [ 0.0082,  0.0082,  0.0431,  ...,  0.7576,  0.7228,  0.7228]]],\n",
              "       device='cuda:0')"
            ]
          },
          "metadata": {
            "tags": []
          },
          "execution_count": 30
        }
      ]
    },
    {
      "cell_type": "markdown",
      "metadata": {
        "id": "2eS-9TjsPlBI"
      },
      "source": [
        "# **LOADING DATA IN BATCHES** "
      ]
    },
    {
      "cell_type": "code",
      "metadata": {
        "id": "nV2xs8lhcOYR"
      },
      "source": [
        "from torch.utils.data import DataLoader, TensorDataset\n",
        "\n",
        "train_dataset = TensorDataset(images_tensor, labels)\n",
        "train_dataloader = DataLoader(train_dataset, batch_size=64)"
      ],
      "execution_count": 31,
      "outputs": []
    },
    {
      "cell_type": "code",
      "metadata": {
        "colab": {
          "base_uri": "https://localhost:8080/"
        },
        "id": "1-McmcfXcPoY",
        "outputId": "9eda6812-ec71-4b33-f883-73e058647058"
      },
      "source": [
        "batch = next(iter(train_dataloader))\n",
        "print(batch[0].shape)\n",
        "print(batch[1].shape)"
      ],
      "execution_count": 32,
      "outputs": [
        {
          "output_type": "stream",
          "text": [
            "torch.Size([64, 3, 384, 256])\n",
            "torch.Size([64, 8])\n"
          ],
          "name": "stdout"
        }
      ]
    },
    {
      "cell_type": "markdown",
      "metadata": {
        "id": "KuaNPH_YPunt"
      },
      "source": [
        "# **DOWNLOADING THE MODEL** "
      ]
    },
    {
      "cell_type": "code",
      "metadata": {
        "id": "6VGjoByeJCW5"
      },
      "source": [
        "model = models.squeezenet1_1(pretrained=True)\n",
        "#model.eval()"
      ],
      "execution_count": 33,
      "outputs": []
    },
    {
      "cell_type": "markdown",
      "metadata": {
        "id": "DgOHKrksPzqM"
      },
      "source": [
        "# **REFINING THE MODEL AND CHECKING PARAMETERS** "
      ]
    },
    {
      "cell_type": "code",
      "metadata": {
        "colab": {
          "base_uri": "https://localhost:8080/"
        },
        "id": "Cw5lteI0BdZM",
        "outputId": "9e7ea68b-8691-4238-ca16-e8e94d3c3ee7"
      },
      "source": [
        "for param in model.parameters():\n",
        "    param.requires_grad=False\n",
        "\n",
        "model.classifier._modules['4'] = nn.Flatten()\n",
        "model.classifier._modules['5'] = nn.Linear(1000, 8)\n",
        "\n",
        "# Find total parameters and trainable parameters\n",
        "total_params = sum(p.numel() for p in model.parameters())\n",
        "print(f'{total_params:,} total parameters.')\n",
        "total_trainable_params = sum(p.numel() for p in model.parameters() if p.requires_grad)\n",
        "print(f'{total_trainable_params:,} trainable parameters.')"
      ],
      "execution_count": 34,
      "outputs": [
        {
          "output_type": "stream",
          "text": [
            "1,243,504 total parameters.\n",
            "8,008 trainable parameters.\n"
          ],
          "name": "stdout"
        }
      ]
    },
    {
      "cell_type": "markdown",
      "metadata": {
        "id": "zhC1jJg6P6Rq"
      },
      "source": [
        "# **MODEL ARCHITECTURE** "
      ]
    },
    {
      "cell_type": "code",
      "metadata": {
        "colab": {
          "base_uri": "https://localhost:8080/"
        },
        "id": "_DFq-JCE-Hm2",
        "outputId": "e865d75d-e756-4292-c426-e1e518fcca48"
      },
      "source": [
        "model.eval()"
      ],
      "execution_count": 35,
      "outputs": [
        {
          "output_type": "execute_result",
          "data": {
            "text/plain": [
              "SqueezeNet(\n",
              "  (features): Sequential(\n",
              "    (0): Conv2d(3, 64, kernel_size=(3, 3), stride=(2, 2))\n",
              "    (1): ReLU(inplace=True)\n",
              "    (2): MaxPool2d(kernel_size=3, stride=2, padding=0, dilation=1, ceil_mode=True)\n",
              "    (3): Fire(\n",
              "      (squeeze): Conv2d(64, 16, kernel_size=(1, 1), stride=(1, 1))\n",
              "      (squeeze_activation): ReLU(inplace=True)\n",
              "      (expand1x1): Conv2d(16, 64, kernel_size=(1, 1), stride=(1, 1))\n",
              "      (expand1x1_activation): ReLU(inplace=True)\n",
              "      (expand3x3): Conv2d(16, 64, kernel_size=(3, 3), stride=(1, 1), padding=(1, 1))\n",
              "      (expand3x3_activation): ReLU(inplace=True)\n",
              "    )\n",
              "    (4): Fire(\n",
              "      (squeeze): Conv2d(128, 16, kernel_size=(1, 1), stride=(1, 1))\n",
              "      (squeeze_activation): ReLU(inplace=True)\n",
              "      (expand1x1): Conv2d(16, 64, kernel_size=(1, 1), stride=(1, 1))\n",
              "      (expand1x1_activation): ReLU(inplace=True)\n",
              "      (expand3x3): Conv2d(16, 64, kernel_size=(3, 3), stride=(1, 1), padding=(1, 1))\n",
              "      (expand3x3_activation): ReLU(inplace=True)\n",
              "    )\n",
              "    (5): MaxPool2d(kernel_size=3, stride=2, padding=0, dilation=1, ceil_mode=True)\n",
              "    (6): Fire(\n",
              "      (squeeze): Conv2d(128, 32, kernel_size=(1, 1), stride=(1, 1))\n",
              "      (squeeze_activation): ReLU(inplace=True)\n",
              "      (expand1x1): Conv2d(32, 128, kernel_size=(1, 1), stride=(1, 1))\n",
              "      (expand1x1_activation): ReLU(inplace=True)\n",
              "      (expand3x3): Conv2d(32, 128, kernel_size=(3, 3), stride=(1, 1), padding=(1, 1))\n",
              "      (expand3x3_activation): ReLU(inplace=True)\n",
              "    )\n",
              "    (7): Fire(\n",
              "      (squeeze): Conv2d(256, 32, kernel_size=(1, 1), stride=(1, 1))\n",
              "      (squeeze_activation): ReLU(inplace=True)\n",
              "      (expand1x1): Conv2d(32, 128, kernel_size=(1, 1), stride=(1, 1))\n",
              "      (expand1x1_activation): ReLU(inplace=True)\n",
              "      (expand3x3): Conv2d(32, 128, kernel_size=(3, 3), stride=(1, 1), padding=(1, 1))\n",
              "      (expand3x3_activation): ReLU(inplace=True)\n",
              "    )\n",
              "    (8): MaxPool2d(kernel_size=3, stride=2, padding=0, dilation=1, ceil_mode=True)\n",
              "    (9): Fire(\n",
              "      (squeeze): Conv2d(256, 48, kernel_size=(1, 1), stride=(1, 1))\n",
              "      (squeeze_activation): ReLU(inplace=True)\n",
              "      (expand1x1): Conv2d(48, 192, kernel_size=(1, 1), stride=(1, 1))\n",
              "      (expand1x1_activation): ReLU(inplace=True)\n",
              "      (expand3x3): Conv2d(48, 192, kernel_size=(3, 3), stride=(1, 1), padding=(1, 1))\n",
              "      (expand3x3_activation): ReLU(inplace=True)\n",
              "    )\n",
              "    (10): Fire(\n",
              "      (squeeze): Conv2d(384, 48, kernel_size=(1, 1), stride=(1, 1))\n",
              "      (squeeze_activation): ReLU(inplace=True)\n",
              "      (expand1x1): Conv2d(48, 192, kernel_size=(1, 1), stride=(1, 1))\n",
              "      (expand1x1_activation): ReLU(inplace=True)\n",
              "      (expand3x3): Conv2d(48, 192, kernel_size=(3, 3), stride=(1, 1), padding=(1, 1))\n",
              "      (expand3x3_activation): ReLU(inplace=True)\n",
              "    )\n",
              "    (11): Fire(\n",
              "      (squeeze): Conv2d(384, 64, kernel_size=(1, 1), stride=(1, 1))\n",
              "      (squeeze_activation): ReLU(inplace=True)\n",
              "      (expand1x1): Conv2d(64, 256, kernel_size=(1, 1), stride=(1, 1))\n",
              "      (expand1x1_activation): ReLU(inplace=True)\n",
              "      (expand3x3): Conv2d(64, 256, kernel_size=(3, 3), stride=(1, 1), padding=(1, 1))\n",
              "      (expand3x3_activation): ReLU(inplace=True)\n",
              "    )\n",
              "    (12): Fire(\n",
              "      (squeeze): Conv2d(512, 64, kernel_size=(1, 1), stride=(1, 1))\n",
              "      (squeeze_activation): ReLU(inplace=True)\n",
              "      (expand1x1): Conv2d(64, 256, kernel_size=(1, 1), stride=(1, 1))\n",
              "      (expand1x1_activation): ReLU(inplace=True)\n",
              "      (expand3x3): Conv2d(64, 256, kernel_size=(3, 3), stride=(1, 1), padding=(1, 1))\n",
              "      (expand3x3_activation): ReLU(inplace=True)\n",
              "    )\n",
              "  )\n",
              "  (classifier): Sequential(\n",
              "    (0): Dropout(p=0.5, inplace=False)\n",
              "    (1): Conv2d(512, 1000, kernel_size=(1, 1), stride=(1, 1))\n",
              "    (2): ReLU(inplace=True)\n",
              "    (3): AdaptiveAvgPool2d(output_size=(1, 1))\n",
              "    (4): Flatten(start_dim=1, end_dim=-1)\n",
              "    (5): Linear(in_features=1000, out_features=8, bias=True)\n",
              "  )\n",
              ")"
            ]
          },
          "metadata": {
            "tags": []
          },
          "execution_count": 35
        }
      ]
    },
    {
      "cell_type": "code",
      "metadata": {
        "colab": {
          "base_uri": "https://localhost:8080/"
        },
        "id": "zGjMAkklOlpi",
        "outputId": "ef931c76-7a29-4129-849f-863146376bb1"
      },
      "source": [
        "print(model.forward(torch.rand(16,3,384,256)).size())"
      ],
      "execution_count": 36,
      "outputs": [
        {
          "output_type": "stream",
          "text": [
            "/usr/local/lib/python3.7/dist-packages/torch/nn/functional.py:718: UserWarning: Named tensors and all their associated APIs are an experimental feature and subject to change. Please do not use them for anything important until they are released as stable. (Triggered internally at  /pytorch/c10/core/TensorImpl.h:1156.)\n",
            "  return torch.max_pool2d(input, kernel_size, stride, padding, dilation, ceil_mode)\n"
          ],
          "name": "stderr"
        },
        {
          "output_type": "stream",
          "text": [
            "torch.Size([16, 8])\n"
          ],
          "name": "stdout"
        }
      ]
    },
    {
      "cell_type": "markdown",
      "metadata": {
        "id": "WEMBkMQrP-uQ"
      },
      "source": [
        "# **CHECK DEVICE** "
      ]
    },
    {
      "cell_type": "code",
      "metadata": {
        "colab": {
          "base_uri": "https://localhost:8080/"
        },
        "id": "JcO2qj7pgaIO",
        "outputId": "9003c09c-fdb0-4dab-e098-7618e65f5d77"
      },
      "source": [
        "# move the model to GPU, if available\n",
        "device = torch.device(\"cuda\" if torch.cuda.is_available() else \"cpu\")\n",
        "\n",
        "if(device.type==\"cuda\"):\n",
        "  print(\"Running on CUDA\")"
      ],
      "execution_count": 37,
      "outputs": [
        {
          "output_type": "stream",
          "text": [
            "Running on CUDA\n"
          ],
          "name": "stdout"
        }
      ]
    },
    {
      "cell_type": "code",
      "metadata": {
        "id": "eT5k5znUdOFk"
      },
      "source": [
        "model = model.cuda()"
      ],
      "execution_count": 38,
      "outputs": []
    },
    {
      "cell_type": "code",
      "metadata": {
        "colab": {
          "base_uri": "https://localhost:8080/"
        },
        "id": "1CEifq7lC0Ye",
        "outputId": "326584b9-e204-4e40-b80f-0407e690c0cd"
      },
      "source": [
        "model.classifier[5]"
      ],
      "execution_count": 39,
      "outputs": [
        {
          "output_type": "execute_result",
          "data": {
            "text/plain": [
              "Linear(in_features=1000, out_features=8, bias=True)"
            ]
          },
          "metadata": {
            "tags": []
          },
          "execution_count": 39
        }
      ]
    },
    {
      "cell_type": "code",
      "metadata": {
        "colab": {
          "base_uri": "https://localhost:8080/"
        },
        "id": "SbBch0Suwvhd",
        "outputId": "d5e15852-3475-4373-a707-e462ac430d24"
      },
      "source": [
        "print([i for i in model.classifier[5].parameters()][0].shape)\n",
        "print([i for i in model.classifier[5].parameters()][1].shape)"
      ],
      "execution_count": 40,
      "outputs": [
        {
          "output_type": "stream",
          "text": [
            "torch.Size([8, 1000])\n",
            "torch.Size([8])\n"
          ],
          "name": "stdout"
        }
      ]
    },
    {
      "cell_type": "code",
      "metadata": {
        "colab": {
          "base_uri": "https://localhost:8080/"
        },
        "id": "bbWyFG3E3XED",
        "outputId": "6f9fb38e-ee9c-43fc-dd2d-8668d48f99e9"
      },
      "source": [
        "[i for i in model.classifier[5].parameters()][0]"
      ],
      "execution_count": 41,
      "outputs": [
        {
          "output_type": "execute_result",
          "data": {
            "text/plain": [
              "Parameter containing:\n",
              "tensor([[-0.0132,  0.0253, -0.0254,  ...,  0.0089, -0.0245,  0.0253],\n",
              "        [ 0.0224,  0.0121, -0.0167,  ...,  0.0212, -0.0105,  0.0142],\n",
              "        [-0.0203,  0.0315,  0.0073,  ..., -0.0198, -0.0082,  0.0188],\n",
              "        ...,\n",
              "        [-0.0175,  0.0205,  0.0124,  ...,  0.0101,  0.0211, -0.0101],\n",
              "        [-0.0195,  0.0057, -0.0094,  ..., -0.0261,  0.0245,  0.0013],\n",
              "        [ 0.0039, -0.0266,  0.0228,  ..., -0.0207, -0.0240, -0.0202]],\n",
              "       device='cuda:0', requires_grad=True)"
            ]
          },
          "metadata": {
            "tags": []
          },
          "execution_count": 41
        }
      ]
    },
    {
      "cell_type": "markdown",
      "metadata": {
        "id": "o29gXnGiQBfg"
      },
      "source": [
        "# **TRAINING THE MODEL** "
      ]
    },
    {
      "cell_type": "code",
      "metadata": {
        "id": "iU4Tz2DOXmF0"
      },
      "source": [
        "def train_model(model, criterion, optimizer, scheduler, num_epochs=20,device='cuda'):\n",
        "      \n",
        "      since = time.time()\n",
        "      train_loss = []\n",
        "      model = model.double()\n",
        "      \n",
        "\n",
        "      for epoch in range(num_epochs):  # loop over the dataset multiple times\n",
        "            \n",
        "            print('Epoch {}/{}'.format(epoch, num_epochs - 1))\n",
        "            print('lr: {}'.format(optimizer.param_groups[0]['lr']))\n",
        "            print('-' * 10)\n",
        "            i = 0\n",
        "            running_loss = 0.0\n",
        "            model = model.train()\n",
        "\n",
        "            for inputs,labels in train_dataloader:\n",
        "                i += 1\n",
        "                # get the inputs; data is a list of [inputs, labels] \n",
        "                \n",
        "                #print(inputs.shape)\n",
        "                #print(labels.shape)\n",
        "                \n",
        "                inputs = inputs.cuda()\n",
        "                labels = labels.cuda()\n",
        "      \n",
        "                inputs = inputs.double()\n",
        "                \n",
        "                with torch.set_grad_enabled(True):\n",
        "                    # zero the parameter gradients\n",
        "                    optimizer.zero_grad()\n",
        "\n",
        "                    # forward + backward + optimizer + scheduler\n",
        "                    \n",
        "                    outputs = model.forward(inputs)\n",
        "                    #print(outputs.shape)\n",
        "\n",
        "                    loss = criterion(outputs.flatten(), labels.flatten())\n",
        "                    #print('Loss in iteration: ',i,'is equal to ',loss)\n",
        "            \n",
        "                    #loss.requires_grad = True\n",
        "                    loss.backward()\n",
        "                    optimizer.step()\n",
        "                    \n",
        "\n",
        "                # print statistics\n",
        "                running_loss += loss.item() * inputs.size()[0]\n",
        "                 \n",
        "                if i % 100 == 0:\n",
        "                  print('Iteration: ',i)\n",
        "                  print('Running Loss: ',running_loss)\n",
        "                  print([i for i in model.classifier[1].parameters()][0][0:2])\n",
        "            \n",
        "            scheduler.step()\n",
        "\n",
        "            train_loss.append(running_loss/6615)\n",
        "            print('----------')\n",
        "            print('Train Loss: ',train_loss[-1])\n",
        "            running_loss = 0.0\n",
        "      \n",
        "      time_elapsed = time.time() - since\n",
        "      print('Training complete in {:.0f}m {:.0f}s'.format(time_elapsed // 60, time_elapsed % 60))\n",
        "            \n",
        "      return model, train_loss"
      ],
      "execution_count": 79,
      "outputs": []
    },
    {
      "cell_type": "markdown",
      "metadata": {
        "id": "YdORioznQEKd"
      },
      "source": [
        "# **LOSS FUNCTION, OPTIMIZER, SCHEDULER** "
      ]
    },
    {
      "cell_type": "code",
      "metadata": {
        "id": "NtXgP_mbglVq"
      },
      "source": [
        "loss_fn = torch.nn.MSELoss(reduction='mean')\n",
        "optimizer = optim.Adam(model.classifier[5].parameters(), lr=0.1) \n",
        "scheduler = optim.lr_scheduler.StepLR(optimizer,step_size=5,gamma=0.1)"
      ],
      "execution_count": 43,
      "outputs": []
    },
    {
      "cell_type": "markdown",
      "metadata": {
        "id": "A2BejV70QH3m"
      },
      "source": [
        "# **RUN TRAIN MODEL** "
      ]
    },
    {
      "cell_type": "code",
      "metadata": {
        "id": "5ckb3GJ2bp-U"
      },
      "source": [
        "#model, train_loss = train_model(model, loss_fn, optimizer, scheduler, num_epochs = 5)"
      ],
      "execution_count": 44,
      "outputs": []
    },
    {
      "cell_type": "markdown",
      "metadata": {
        "id": "2GTtmygGQKjC"
      },
      "source": [
        "# **SAVE AND LOAD MODEL STATE DICT** "
      ]
    },
    {
      "cell_type": "code",
      "metadata": {
        "id": "-1qumtXUPoKZ",
        "colab": {
          "base_uri": "https://localhost:8080/"
        },
        "outputId": "fb191bdf-a205-41bb-c97e-df34c2f6b535"
      },
      "source": [
        "checkpoint = 'checkpoint_squeezenet_11.pth'\n",
        "path = '/content/gdrive/MyDrive/SqueezeNet/model_state_dict/' + checkpoint\n",
        "#Saving the model state dict\n",
        "#torch.save(model.state_dict(), path)\n",
        "\n",
        "# Loading the model state dict\n",
        "model.load_state_dict(torch.load(path))\n",
        "model.eval()"
      ],
      "execution_count": 45,
      "outputs": [
        {
          "output_type": "execute_result",
          "data": {
            "text/plain": [
              "SqueezeNet(\n",
              "  (features): Sequential(\n",
              "    (0): Conv2d(3, 64, kernel_size=(3, 3), stride=(2, 2))\n",
              "    (1): ReLU(inplace=True)\n",
              "    (2): MaxPool2d(kernel_size=3, stride=2, padding=0, dilation=1, ceil_mode=True)\n",
              "    (3): Fire(\n",
              "      (squeeze): Conv2d(64, 16, kernel_size=(1, 1), stride=(1, 1))\n",
              "      (squeeze_activation): ReLU(inplace=True)\n",
              "      (expand1x1): Conv2d(16, 64, kernel_size=(1, 1), stride=(1, 1))\n",
              "      (expand1x1_activation): ReLU(inplace=True)\n",
              "      (expand3x3): Conv2d(16, 64, kernel_size=(3, 3), stride=(1, 1), padding=(1, 1))\n",
              "      (expand3x3_activation): ReLU(inplace=True)\n",
              "    )\n",
              "    (4): Fire(\n",
              "      (squeeze): Conv2d(128, 16, kernel_size=(1, 1), stride=(1, 1))\n",
              "      (squeeze_activation): ReLU(inplace=True)\n",
              "      (expand1x1): Conv2d(16, 64, kernel_size=(1, 1), stride=(1, 1))\n",
              "      (expand1x1_activation): ReLU(inplace=True)\n",
              "      (expand3x3): Conv2d(16, 64, kernel_size=(3, 3), stride=(1, 1), padding=(1, 1))\n",
              "      (expand3x3_activation): ReLU(inplace=True)\n",
              "    )\n",
              "    (5): MaxPool2d(kernel_size=3, stride=2, padding=0, dilation=1, ceil_mode=True)\n",
              "    (6): Fire(\n",
              "      (squeeze): Conv2d(128, 32, kernel_size=(1, 1), stride=(1, 1))\n",
              "      (squeeze_activation): ReLU(inplace=True)\n",
              "      (expand1x1): Conv2d(32, 128, kernel_size=(1, 1), stride=(1, 1))\n",
              "      (expand1x1_activation): ReLU(inplace=True)\n",
              "      (expand3x3): Conv2d(32, 128, kernel_size=(3, 3), stride=(1, 1), padding=(1, 1))\n",
              "      (expand3x3_activation): ReLU(inplace=True)\n",
              "    )\n",
              "    (7): Fire(\n",
              "      (squeeze): Conv2d(256, 32, kernel_size=(1, 1), stride=(1, 1))\n",
              "      (squeeze_activation): ReLU(inplace=True)\n",
              "      (expand1x1): Conv2d(32, 128, kernel_size=(1, 1), stride=(1, 1))\n",
              "      (expand1x1_activation): ReLU(inplace=True)\n",
              "      (expand3x3): Conv2d(32, 128, kernel_size=(3, 3), stride=(1, 1), padding=(1, 1))\n",
              "      (expand3x3_activation): ReLU(inplace=True)\n",
              "    )\n",
              "    (8): MaxPool2d(kernel_size=3, stride=2, padding=0, dilation=1, ceil_mode=True)\n",
              "    (9): Fire(\n",
              "      (squeeze): Conv2d(256, 48, kernel_size=(1, 1), stride=(1, 1))\n",
              "      (squeeze_activation): ReLU(inplace=True)\n",
              "      (expand1x1): Conv2d(48, 192, kernel_size=(1, 1), stride=(1, 1))\n",
              "      (expand1x1_activation): ReLU(inplace=True)\n",
              "      (expand3x3): Conv2d(48, 192, kernel_size=(3, 3), stride=(1, 1), padding=(1, 1))\n",
              "      (expand3x3_activation): ReLU(inplace=True)\n",
              "    )\n",
              "    (10): Fire(\n",
              "      (squeeze): Conv2d(384, 48, kernel_size=(1, 1), stride=(1, 1))\n",
              "      (squeeze_activation): ReLU(inplace=True)\n",
              "      (expand1x1): Conv2d(48, 192, kernel_size=(1, 1), stride=(1, 1))\n",
              "      (expand1x1_activation): ReLU(inplace=True)\n",
              "      (expand3x3): Conv2d(48, 192, kernel_size=(3, 3), stride=(1, 1), padding=(1, 1))\n",
              "      (expand3x3_activation): ReLU(inplace=True)\n",
              "    )\n",
              "    (11): Fire(\n",
              "      (squeeze): Conv2d(384, 64, kernel_size=(1, 1), stride=(1, 1))\n",
              "      (squeeze_activation): ReLU(inplace=True)\n",
              "      (expand1x1): Conv2d(64, 256, kernel_size=(1, 1), stride=(1, 1))\n",
              "      (expand1x1_activation): ReLU(inplace=True)\n",
              "      (expand3x3): Conv2d(64, 256, kernel_size=(3, 3), stride=(1, 1), padding=(1, 1))\n",
              "      (expand3x3_activation): ReLU(inplace=True)\n",
              "    )\n",
              "    (12): Fire(\n",
              "      (squeeze): Conv2d(512, 64, kernel_size=(1, 1), stride=(1, 1))\n",
              "      (squeeze_activation): ReLU(inplace=True)\n",
              "      (expand1x1): Conv2d(64, 256, kernel_size=(1, 1), stride=(1, 1))\n",
              "      (expand1x1_activation): ReLU(inplace=True)\n",
              "      (expand3x3): Conv2d(64, 256, kernel_size=(3, 3), stride=(1, 1), padding=(1, 1))\n",
              "      (expand3x3_activation): ReLU(inplace=True)\n",
              "    )\n",
              "  )\n",
              "  (classifier): Sequential(\n",
              "    (0): Dropout(p=0.5, inplace=False)\n",
              "    (1): Conv2d(512, 1000, kernel_size=(1, 1), stride=(1, 1))\n",
              "    (2): ReLU(inplace=True)\n",
              "    (3): AdaptiveAvgPool2d(output_size=(1, 1))\n",
              "    (4): Flatten(start_dim=1, end_dim=-1)\n",
              "    (5): Linear(in_features=1000, out_features=8, bias=True)\n",
              "  )\n",
              ")"
            ]
          },
          "metadata": {
            "tags": []
          },
          "execution_count": 45
        }
      ]
    },
    {
      "cell_type": "code",
      "metadata": {
        "colab": {
          "base_uri": "https://localhost:8080/"
        },
        "id": "LPTzytgG4IMI",
        "outputId": "cb8e158d-bbbc-4151-bca1-4326faff9b6f"
      },
      "source": [
        "[i for i in model.classifier[5].parameters()][0]"
      ],
      "execution_count": 46,
      "outputs": [
        {
          "output_type": "execute_result",
          "data": {
            "text/plain": [
              "Parameter containing:\n",
              "tensor([[-0.0659,  0.7990,  0.2862,  ..., -0.2987,  0.4054,  0.3052],\n",
              "        [-0.7859,  0.5596, -0.9644,  ...,  0.4771, -0.0659,  0.9440],\n",
              "        [ 0.0608,  1.6347, -0.6275,  ...,  0.0630,  0.9143,  0.2853],\n",
              "        ...,\n",
              "        [ 0.1472,  0.3086, -1.4875,  ..., -0.9243,  0.9746,  1.1711],\n",
              "        [-0.4517,  0.9764,  0.2157,  ..., -0.4598,  0.1572,  0.3181],\n",
              "        [ 0.2072,  0.4757, -0.7013,  ..., -0.5231,  0.7548,  1.2804]],\n",
              "       device='cuda:0', requires_grad=True)"
            ]
          },
          "metadata": {
            "tags": []
          },
          "execution_count": 46
        }
      ]
    },
    {
      "cell_type": "markdown",
      "metadata": {
        "id": "Mbf7J2W2QTDi"
      },
      "source": [
        "# **TESTING THE MODEL** "
      ]
    },
    {
      "cell_type": "code",
      "metadata": {
        "id": "0w4t4vw2_1OT"
      },
      "source": [
        "preds = model.forward(images_tensor[2000].unsqueeze(0).cuda())"
      ],
      "execution_count": 47,
      "outputs": []
    },
    {
      "cell_type": "code",
      "metadata": {
        "colab": {
          "base_uri": "https://localhost:8080/"
        },
        "id": "oFfuJvhJSAU9",
        "outputId": "f02b7533-cd4f-42f8-9681-328da6eabe0e"
      },
      "source": [
        "preds"
      ],
      "execution_count": 48,
      "outputs": [
        {
          "output_type": "execute_result",
          "data": {
            "text/plain": [
              "tensor([[ 75.1261,  62.0676, 147.5761,  59.9913, 156.9502, 243.7934,  75.6753,\n",
              "         249.3670]], device='cuda:0', grad_fn=<AddmmBackward>)"
            ]
          },
          "metadata": {
            "tags": []
          },
          "execution_count": 48
        }
      ]
    },
    {
      "cell_type": "code",
      "metadata": {
        "colab": {
          "base_uri": "https://localhost:8080/"
        },
        "id": "-uBYp2RWSGng",
        "outputId": "4e042386-9d56-463d-c586-b6b2468f8d3f"
      },
      "source": [
        "labels[2000]"
      ],
      "execution_count": 49,
      "outputs": [
        {
          "output_type": "execute_result",
          "data": {
            "text/plain": [
              "tensor([ 79.0438,  89.6000, 158.0876,  76.2182, 168.2869, 299.6364,  83.1235,\n",
              "        260.0727], dtype=torch.float64)"
            ]
          },
          "metadata": {
            "tags": []
          },
          "execution_count": 49
        }
      ]
    },
    {
      "cell_type": "code",
      "metadata": {
        "colab": {
          "base_uri": "https://localhost:8080/"
        },
        "id": "JvWH6sBaJxu5",
        "outputId": "553a29d8-6c15-4dc2-8f0f-0bbf97893d75"
      },
      "source": [
        "loss_fn(preds.flatten().cuda(),labels[2000].cuda())"
      ],
      "execution_count": 50,
      "outputs": [
        {
          "output_type": "execute_result",
          "data": {
            "text/plain": [
              "tensor(570.5285, device='cuda:0', dtype=torch.float64,\n",
              "       grad_fn=<MseLossBackward>)"
            ]
          },
          "metadata": {
            "tags": []
          },
          "execution_count": 50
        }
      ]
    },
    {
      "cell_type": "code",
      "metadata": {
        "colab": {
          "base_uri": "https://localhost:8080/"
        },
        "id": "ArQaEp6lIr6C",
        "outputId": "b9604fa6-daa8-4c83-d5f1-506c0ac97c58"
      },
      "source": [
        "img = images_tensor[2000].detach().to('cpu').numpy()\n",
        "img = np.transpose(img, (1, 2, 0))\n",
        "img.shape"
      ],
      "execution_count": 51,
      "outputs": [
        {
          "output_type": "execute_result",
          "data": {
            "text/plain": [
              "(384, 256, 3)"
            ]
          },
          "metadata": {
            "tags": []
          },
          "execution_count": 51
        }
      ]
    },
    {
      "cell_type": "code",
      "metadata": {
        "colab": {
          "base_uri": "https://localhost:8080/",
          "height": 323
        },
        "id": "DFoql8WPL1UX",
        "outputId": "56dc6f75-861e-4b2e-9960-1aa2dc4da388"
      },
      "source": [
        "fig,ax = plt.subplots(figsize=(5,5))\n",
        "imshow(images_tensor[2000],list(preds.detach().to('cpu').numpy().flatten()))"
      ],
      "execution_count": 53,
      "outputs": [
        {
          "output_type": "display_data",
          "data": {
            "image/png": "[encoded data removed]",
            "text/plain": [
              "<Figure size 360x360 with 1 Axes>"
            ]
          },
          "metadata": {
            "tags": [],
            "needs_background": "light"
          }
        }
      ]
    },
    {
      "cell_type": "markdown",
      "metadata": {
        "id": "4enamjpHXS-6"
      },
      "source": [
        "# **CORNER PATCH CROP**"
      ]
    },
    {
      "cell_type": "code",
      "metadata": {
        "colab": {
          "base_uri": "https://localhost:8080/",
          "height": 285
        },
        "id": "tD8-tzWWXRnT",
        "outputId": "ae172cb7-126f-4932-949a-4682a446d9e3"
      },
      "source": [
        "im1 = img[75-50:75+50,62-50:62+50]\n",
        "mean = np.array([0.485, 0.456, 0.406])\n",
        "std = np.array([0.229, 0.224, 0.225])\n",
        "im1 = std * im1 + mean\n",
        "im1 = np.clip(im1, 0, 1)\n",
        "plt.imshow(im1)\n",
        "#plt.savefig('CornerImg.png')"
      ],
      "execution_count": 54,
      "outputs": [
        {
          "output_type": "execute_result",
          "data": {
            "text/plain": [
              "<matplotlib.image.AxesImage at 0x7fe0381b0d10>"
            ]
          },
          "metadata": {
            "tags": []
          },
          "execution_count": 54
        },
        {
          "output_type": "display_data",
          "data": {
            "image/png": "[encoded data removed]",
            "text/plain": [
              "<Figure size 432x288 with 1 Axes>"
            ]
          },
          "metadata": {
            "tags": [],
            "needs_background": "light"
          }
        }
      ]
    },
    {
      "cell_type": "markdown",
      "metadata": {
        "id": "s4nHm9Lndoqf"
      },
      "source": [
        "# **CORNER DETECTOR REFINER**"
      ]
    },
    {
      "cell_type": "code",
      "metadata": {
        "id": "SvdnFrhGixX7"
      },
      "source": [
        "rgb_weights = [0.2989, 0.5870, 0.1140]\n",
        "grayscale_image = np.dot(im1[...,:3], rgb_weights)\n",
        "#grayscale_image.shape\n",
        "threshold = 0.8\n",
        "binarized = 1.0 * (grayscale_image > threshold)"
      ],
      "execution_count": 55,
      "outputs": []
    },
    {
      "cell_type": "code",
      "metadata": {
        "colab": {
          "base_uri": "https://localhost:8080/",
          "height": 268
        },
        "id": "axz-wOU6jZOO",
        "outputId": "44b6f319-f1d7-43ff-f12c-5708d0367a39"
      },
      "source": [
        "plt.imshow(binarized,'gray')\n",
        "plt.show()"
      ],
      "execution_count": 56,
      "outputs": [
        {
          "output_type": "display_data",
          "data": {
            "image/png": "[encoded data removed]",
            "text/plain": [
              "<Figure size 432x288 with 1 Axes>"
            ]
          },
          "metadata": {
            "tags": [],
            "needs_background": "light"
          }
        }
      ]
    },
    {
      "cell_type": "code",
      "metadata": {
        "colab": {
          "base_uri": "https://localhost:8080/"
        },
        "id": "-xgvbamqnfdZ",
        "outputId": "ab1a11a5-4dd8-466c-ccdb-2138b0269699"
      },
      "source": [
        "xy = [1000,1000]\n",
        "for i in range(im1.shape[0]):\n",
        "  for j in range(im1.shape[1]):\n",
        "    if binarized[i,j] == 0:\n",
        "      try:\n",
        "        if binarized[i-1,j-1] == 1 and binarized[i-1,j] == 1 and binarized[i,j-1] == 1:\n",
        "          if i+j < sum(xy):\n",
        "            xy = [i,j]\n",
        "      except:\n",
        "        pass\n",
        "xy"
      ],
      "execution_count": 57,
      "outputs": [
        {
          "output_type": "execute_result",
          "data": {
            "text/plain": [
              "[63, 66]"
            ]
          },
          "metadata": {
            "tags": []
          },
          "execution_count": 57
        }
      ]
    },
    {
      "cell_type": "code",
      "metadata": {
        "colab": {
          "base_uri": "https://localhost:8080/",
          "height": 322
        },
        "id": "Rp959nsZlVmw",
        "outputId": "ead39f78-ba67-49db-86d9-c162cd59a58f"
      },
      "source": [
        "xx, yy = xy\n",
        "fig,ax = plt.subplots(figsize=(5,5))\n",
        "ax.imshow(im1)\n",
        "circ = Circle((yy,xx),1,color='g')\n",
        "ax.add_patch(circ)\n",
        "plt.show()"
      ],
      "execution_count": 58,
      "outputs": [
        {
          "output_type": "display_data",
          "data": {
            "image/png": "[encoded data removed]",
            "text/plain": [
              "<Figure size 360x360 with 1 Axes>"
            ]
          },
          "metadata": {
            "tags": [],
            "needs_background": "light"
          }
        }
      ]
    },
    {
      "cell_type": "markdown",
      "metadata": {
        "id": "9jwTflUCGdg-"
      },
      "source": [
        "# **SQUEEZE-NET VARIANT 2**"
      ]
    },
    {
      "cell_type": "code",
      "metadata": {
        "id": "KvcmSgXxILPr"
      },
      "source": [
        "sqnet = models.squeezenet1_1(pretrained=True)"
      ],
      "execution_count": 12,
      "outputs": []
    },
    {
      "cell_type": "code",
      "metadata": {
        "colab": {
          "base_uri": "https://localhost:8080/"
        },
        "id": "EQpO0d60Ql9m",
        "outputId": "a796a9ec-59ad-4cbf-92cb-5e9a1457958c"
      },
      "source": [
        "sqnet.classifier[1] = nn.Conv2d(512, 8, kernel_size=(1,1), stride=1)\n",
        "\n",
        "for param in sqnet.parameters():\n",
        "    param.requires_grad=False\n",
        "\n",
        "for param in sqnet.classifier.parameters():\n",
        "    param.requires_grad=True\n",
        "\n",
        "# Find total parameters and trainable parameters\n",
        "total_params = sum(p.numel() for p in sqnet.parameters())\n",
        "print(f'{total_params:,} total parameters.')\n",
        "total_trainable_params = sum(p.numel() for p in sqnet.parameters() if p.requires_grad)\n",
        "print(f'{total_trainable_params:,} trainable parameters.')"
      ],
      "execution_count": 16,
      "outputs": [
        {
          "output_type": "stream",
          "text": [
            "726,600 total parameters.\n",
            "4,104 trainable parameters.\n"
          ],
          "name": "stdout"
        }
      ]
    },
    {
      "cell_type": "code",
      "metadata": {
        "colab": {
          "base_uri": "https://localhost:8080/"
        },
        "id": "D0JKzh7jG8cI",
        "outputId": "fcb07ac8-551c-49e9-89bb-c5d412950737"
      },
      "source": [
        "sqnet.cuda()"
      ],
      "execution_count": 66,
      "outputs": [
        {
          "output_type": "execute_result",
          "data": {
            "text/plain": [
              "SqueezeNet(\n",
              "  (features): Sequential(\n",
              "    (0): Conv2d(3, 64, kernel_size=(3, 3), stride=(2, 2))\n",
              "    (1): ReLU(inplace=True)\n",
              "    (2): MaxPool2d(kernel_size=3, stride=2, padding=0, dilation=1, ceil_mode=True)\n",
              "    (3): Fire(\n",
              "      (squeeze): Conv2d(64, 16, kernel_size=(1, 1), stride=(1, 1))\n",
              "      (squeeze_activation): ReLU(inplace=True)\n",
              "      (expand1x1): Conv2d(16, 64, kernel_size=(1, 1), stride=(1, 1))\n",
              "      (expand1x1_activation): ReLU(inplace=True)\n",
              "      (expand3x3): Conv2d(16, 64, kernel_size=(3, 3), stride=(1, 1), padding=(1, 1))\n",
              "      (expand3x3_activation): ReLU(inplace=True)\n",
              "    )\n",
              "    (4): Fire(\n",
              "      (squeeze): Conv2d(128, 16, kernel_size=(1, 1), stride=(1, 1))\n",
              "      (squeeze_activation): ReLU(inplace=True)\n",
              "      (expand1x1): Conv2d(16, 64, kernel_size=(1, 1), stride=(1, 1))\n",
              "      (expand1x1_activation): ReLU(inplace=True)\n",
              "      (expand3x3): Conv2d(16, 64, kernel_size=(3, 3), stride=(1, 1), padding=(1, 1))\n",
              "      (expand3x3_activation): ReLU(inplace=True)\n",
              "    )\n",
              "    (5): MaxPool2d(kernel_size=3, stride=2, padding=0, dilation=1, ceil_mode=True)\n",
              "    (6): Fire(\n",
              "      (squeeze): Conv2d(128, 32, kernel_size=(1, 1), stride=(1, 1))\n",
              "      (squeeze_activation): ReLU(inplace=True)\n",
              "      (expand1x1): Conv2d(32, 128, kernel_size=(1, 1), stride=(1, 1))\n",
              "      (expand1x1_activation): ReLU(inplace=True)\n",
              "      (expand3x3): Conv2d(32, 128, kernel_size=(3, 3), stride=(1, 1), padding=(1, 1))\n",
              "      (expand3x3_activation): ReLU(inplace=True)\n",
              "    )\n",
              "    (7): Fire(\n",
              "      (squeeze): Conv2d(256, 32, kernel_size=(1, 1), stride=(1, 1))\n",
              "      (squeeze_activation): ReLU(inplace=True)\n",
              "      (expand1x1): Conv2d(32, 128, kernel_size=(1, 1), stride=(1, 1))\n",
              "      (expand1x1_activation): ReLU(inplace=True)\n",
              "      (expand3x3): Conv2d(32, 128, kernel_size=(3, 3), stride=(1, 1), padding=(1, 1))\n",
              "      (expand3x3_activation): ReLU(inplace=True)\n",
              "    )\n",
              "    (8): MaxPool2d(kernel_size=3, stride=2, padding=0, dilation=1, ceil_mode=True)\n",
              "    (9): Fire(\n",
              "      (squeeze): Conv2d(256, 48, kernel_size=(1, 1), stride=(1, 1))\n",
              "      (squeeze_activation): ReLU(inplace=True)\n",
              "      (expand1x1): Conv2d(48, 192, kernel_size=(1, 1), stride=(1, 1))\n",
              "      (expand1x1_activation): ReLU(inplace=True)\n",
              "      (expand3x3): Conv2d(48, 192, kernel_size=(3, 3), stride=(1, 1), padding=(1, 1))\n",
              "      (expand3x3_activation): ReLU(inplace=True)\n",
              "    )\n",
              "    (10): Fire(\n",
              "      (squeeze): Conv2d(384, 48, kernel_size=(1, 1), stride=(1, 1))\n",
              "      (squeeze_activation): ReLU(inplace=True)\n",
              "      (expand1x1): Conv2d(48, 192, kernel_size=(1, 1), stride=(1, 1))\n",
              "      (expand1x1_activation): ReLU(inplace=True)\n",
              "      (expand3x3): Conv2d(48, 192, kernel_size=(3, 3), stride=(1, 1), padding=(1, 1))\n",
              "      (expand3x3_activation): ReLU(inplace=True)\n",
              "    )\n",
              "    (11): Fire(\n",
              "      (squeeze): Conv2d(384, 64, kernel_size=(1, 1), stride=(1, 1))\n",
              "      (squeeze_activation): ReLU(inplace=True)\n",
              "      (expand1x1): Conv2d(64, 256, kernel_size=(1, 1), stride=(1, 1))\n",
              "      (expand1x1_activation): ReLU(inplace=True)\n",
              "      (expand3x3): Conv2d(64, 256, kernel_size=(3, 3), stride=(1, 1), padding=(1, 1))\n",
              "      (expand3x3_activation): ReLU(inplace=True)\n",
              "    )\n",
              "    (12): Fire(\n",
              "      (squeeze): Conv2d(512, 64, kernel_size=(1, 1), stride=(1, 1))\n",
              "      (squeeze_activation): ReLU(inplace=True)\n",
              "      (expand1x1): Conv2d(64, 256, kernel_size=(1, 1), stride=(1, 1))\n",
              "      (expand1x1_activation): ReLU(inplace=True)\n",
              "      (expand3x3): Conv2d(64, 256, kernel_size=(3, 3), stride=(1, 1), padding=(1, 1))\n",
              "      (expand3x3_activation): ReLU(inplace=True)\n",
              "    )\n",
              "  )\n",
              "  (classifier): Sequential(\n",
              "    (0): Dropout(p=0.5, inplace=False)\n",
              "    (1): Conv2d(512, 8, kernel_size=(1, 1), stride=(1, 1))\n",
              "    (2): ReLU(inplace=True)\n",
              "    (3): AdaptiveAvgPool2d(output_size=(1, 1))\n",
              "  )\n",
              ")"
            ]
          },
          "metadata": {
            "tags": []
          },
          "execution_count": 66
        }
      ]
    },
    {
      "cell_type": "code",
      "metadata": {
        "id": "eOp1iLJFJW7P"
      },
      "source": [
        "lossA = torch.nn.MSELoss(reduction='mean')\n",
        "optimizerA = optim.Adam(sqnet.classifier[1].parameters(), lr=0.000001) \n",
        "schedulerA = optim.lr_scheduler.StepLR(optimizerA,step_size=10,gamma=0.1)"
      ],
      "execution_count": 91,
      "outputs": []
    },
    {
      "cell_type": "code",
      "metadata": {
        "colab": {
          "base_uri": "https://localhost:8080/"
        },
        "id": "4T7Cp2hYJb4i",
        "outputId": "7257f8af-ea69-45cd-c21a-9f2cda70b874"
      },
      "source": [
        "sqnet, train_loss = train_model(sqnet, lossA, optimizerA, schedulerA, num_epochs = 5)"
      ],
      "execution_count": 92,
      "outputs": [
        {
          "output_type": "stream",
          "text": [
            "Epoch 0/4\n",
            "lr: 1e-06\n",
            "----------\n",
            "Iteration:  100\n",
            "Running Loss:  8301058.691881334\n",
            "tensor([[[[ -0.7345]],\n",
            "\n",
            "         [[ -2.4482]],\n",
            "\n",
            "         [[  0.5718]],\n",
            "\n",
            "         ...,\n",
            "\n",
            "         [[-16.3303]],\n",
            "\n",
            "         [[ -4.7146]],\n",
            "\n",
            "         [[ -9.0781]]],\n",
            "\n",
            "\n",
            "        [[[ -3.1084]],\n",
            "\n",
            "         [[  1.2767]],\n",
            "\n",
            "         [[ -0.4630]],\n",
            "\n",
            "         ...,\n",
            "\n",
            "         [[ -1.0880]],\n",
            "\n",
            "         [[  4.6825]],\n",
            "\n",
            "         [[  6.9150]]]], device='cuda:0', dtype=torch.float64,\n",
            "       grad_fn=<SliceBackward>)\n",
            "----------\n",
            "Train Loss:  1296.9317553265219\n",
            "Epoch 1/4\n",
            "lr: 1e-06\n",
            "----------\n",
            "Iteration:  100\n",
            "Running Loss:  8261449.134487055\n",
            "tensor([[[[ -0.7346]],\n",
            "\n",
            "         [[ -2.4482]],\n",
            "\n",
            "         [[  0.5718]],\n",
            "\n",
            "         ...,\n",
            "\n",
            "         [[-16.3303]],\n",
            "\n",
            "         [[ -4.7146]],\n",
            "\n",
            "         [[ -9.0781]]],\n",
            "\n",
            "\n",
            "        [[[ -3.1084]],\n",
            "\n",
            "         [[  1.2767]],\n",
            "\n",
            "         [[ -0.4630]],\n",
            "\n",
            "         ...,\n",
            "\n",
            "         [[ -1.0879]],\n",
            "\n",
            "         [[  4.6825]],\n",
            "\n",
            "         [[  6.9150]]]], device='cuda:0', dtype=torch.float64,\n",
            "       grad_fn=<SliceBackward>)\n",
            "----------\n",
            "Train Loss:  1291.0517101934938\n",
            "Epoch 2/4\n",
            "lr: 1e-06\n",
            "----------\n",
            "Iteration:  100\n",
            "Running Loss:  8283120.135949321\n",
            "tensor([[[[ -0.7346]],\n",
            "\n",
            "         [[ -2.4482]],\n",
            "\n",
            "         [[  0.5718]],\n",
            "\n",
            "         ...,\n",
            "\n",
            "         [[-16.3303]],\n",
            "\n",
            "         [[ -4.7146]],\n",
            "\n",
            "         [[ -9.0781]]],\n",
            "\n",
            "\n",
            "        [[[ -3.1084]],\n",
            "\n",
            "         [[  1.2767]],\n",
            "\n",
            "         [[ -0.4630]],\n",
            "\n",
            "         ...,\n",
            "\n",
            "         [[ -1.0879]],\n",
            "\n",
            "         [[  4.6825]],\n",
            "\n",
            "         [[  6.9150]]]], device='cuda:0', dtype=torch.float64,\n",
            "       grad_fn=<SliceBackward>)\n",
            "----------\n",
            "Train Loss:  1297.0243229288458\n",
            "Epoch 3/4\n",
            "lr: 1e-06\n",
            "----------\n",
            "Iteration:  100\n",
            "Running Loss:  8235550.72245124\n",
            "tensor([[[[ -0.7346]],\n",
            "\n",
            "         [[ -2.4482]],\n",
            "\n",
            "         [[  0.5718]],\n",
            "\n",
            "         ...,\n",
            "\n",
            "         [[-16.3303]],\n",
            "\n",
            "         [[ -4.7146]],\n",
            "\n",
            "         [[ -9.0781]]],\n",
            "\n",
            "\n",
            "        [[[ -3.1084]],\n",
            "\n",
            "         [[  1.2767]],\n",
            "\n",
            "         [[ -0.4630]],\n",
            "\n",
            "         ...,\n",
            "\n",
            "         [[ -1.0879]],\n",
            "\n",
            "         [[  4.6825]],\n",
            "\n",
            "         [[  6.9150]]]], device='cuda:0', dtype=torch.float64,\n",
            "       grad_fn=<SliceBackward>)\n",
            "----------\n",
            "Train Loss:  1288.2241060138317\n",
            "Epoch 4/4\n",
            "lr: 1e-06\n",
            "----------\n",
            "Iteration:  100\n",
            "Running Loss:  8295106.49425772\n",
            "tensor([[[[ -0.7346]],\n",
            "\n",
            "         [[ -2.4482]],\n",
            "\n",
            "         [[  0.5717]],\n",
            "\n",
            "         ...,\n",
            "\n",
            "         [[-16.3303]],\n",
            "\n",
            "         [[ -4.7146]],\n",
            "\n",
            "         [[ -9.0781]]],\n",
            "\n",
            "\n",
            "        [[[ -3.1084]],\n",
            "\n",
            "         [[  1.2767]],\n",
            "\n",
            "         [[ -0.4630]],\n",
            "\n",
            "         ...,\n",
            "\n",
            "         [[ -1.0879]],\n",
            "\n",
            "         [[  4.6825]],\n",
            "\n",
            "         [[  6.9150]]]], device='cuda:0', dtype=torch.float64,\n",
            "       grad_fn=<SliceBackward>)\n",
            "----------\n",
            "Train Loss:  1298.3057841636257\n",
            "Training complete in 4m 53s\n"
          ],
          "name": "stdout"
        }
      ]
    },
    {
      "cell_type": "code",
      "metadata": {
        "id": "Pz0jBqUZJrFG"
      },
      "source": [
        "checkpoint = 'checkpoint_squeezenet_variant2.pth'\n",
        "path = '/content/gdrive/MyDrive/SqueezeNet/model_state_dict/' + checkpoint\n",
        "#Saving the model state dict\n",
        "torch.save(sqnet.state_dict(), path)\n",
        "\n",
        "# Loading the model state dict\n",
        "#sqnet.load_state_dict(torch.load(path))\n",
        "#sqnet.eval()"
      ],
      "execution_count": 93,
      "outputs": []
    },
    {
      "cell_type": "markdown",
      "metadata": {
        "id": "FwmIr7nlWE3d"
      },
      "source": [
        "# **TESTING SQUEEZE-NET VARIANT 2**"
      ]
    },
    {
      "cell_type": "code",
      "metadata": {
        "id": "bxhwuLTYWPvx"
      },
      "source": [
        "preds = sqnet.forward(images_tensor[2000].double().unsqueeze(0).cuda())"
      ],
      "execution_count": 95,
      "outputs": []
    },
    {
      "cell_type": "code",
      "metadata": {
        "colab": {
          "base_uri": "https://localhost:8080/"
        },
        "id": "xeg4_mNcWPvy",
        "outputId": "4ba1a132-15cd-4a3d-ee94-49faaadde621"
      },
      "source": [
        "preds"
      ],
      "execution_count": 96,
      "outputs": [
        {
          "output_type": "execute_result",
          "data": {
            "text/plain": [
              "tensor([[ 77.2952,  77.1264, 160.1817,  78.8406, 171.3610, 275.4337,  73.8172,\n",
              "         273.2438]], device='cuda:0', dtype=torch.float64,\n",
              "       grad_fn=<ViewBackward>)"
            ]
          },
          "metadata": {
            "tags": []
          },
          "execution_count": 96
        }
      ]
    },
    {
      "cell_type": "code",
      "metadata": {
        "colab": {
          "base_uri": "https://localhost:8080/"
        },
        "id": "wLIjgX7ZWPvz",
        "outputId": "4c4016f5-2f14-4d15-bfe3-1a26e40cd90a"
      },
      "source": [
        "labels[2000]"
      ],
      "execution_count": 97,
      "outputs": [
        {
          "output_type": "execute_result",
          "data": {
            "text/plain": [
              "tensor([ 79.0438,  89.6000, 158.0876,  76.2182, 168.2869, 299.6364,  83.1235,\n",
              "        260.0727], dtype=torch.float64)"
            ]
          },
          "metadata": {
            "tags": []
          },
          "execution_count": 97
        }
      ]
    },
    {
      "cell_type": "code",
      "metadata": {
        "colab": {
          "base_uri": "https://localhost:8080/"
        },
        "id": "YsrzkSx6WPv0",
        "outputId": "0bd41fb0-3039-4c97-c17e-427b2fb9e7ee"
      },
      "source": [
        "loss_fn(preds.flatten().cuda(),labels[2000].cuda())"
      ],
      "execution_count": 98,
      "outputs": [
        {
          "output_type": "execute_result",
          "data": {
            "text/plain": [
              "tensor(128.1517, device='cuda:0', dtype=torch.float64,\n",
              "       grad_fn=<MseLossBackward>)"
            ]
          },
          "metadata": {
            "tags": []
          },
          "execution_count": 98
        }
      ]
    },
    {
      "cell_type": "code",
      "metadata": {
        "colab": {
          "base_uri": "https://localhost:8080/"
        },
        "id": "egCnwnq_WPv0",
        "outputId": "b8abbccd-7b4e-4cac-fd32-e8125354d3a7"
      },
      "source": [
        "img = images_tensor[2000].detach().to('cpu').numpy()\n",
        "img = np.transpose(img, (1, 2, 0))\n",
        "img.shape"
      ],
      "execution_count": 99,
      "outputs": [
        {
          "output_type": "execute_result",
          "data": {
            "text/plain": [
              "(384, 256, 3)"
            ]
          },
          "metadata": {
            "tags": []
          },
          "execution_count": 99
        }
      ]
    },
    {
      "cell_type": "code",
      "metadata": {
        "colab": {
          "base_uri": "https://localhost:8080/",
          "height": 323
        },
        "id": "o9vkc_KrWZ4u",
        "outputId": "6c2e2408-c02c-4d15-8235-3a276751d422"
      },
      "source": [
        "fig,ax = plt.subplots(figsize=(5,5))\n",
        "imshow(images_tensor[2000],list(preds.detach().to('cpu').numpy().flatten()))"
      ],
      "execution_count": 100,
      "outputs": [
        {
          "output_type": "display_data",
          "data": {
            "image/png": "[encoded data removed]",
            "text/plain": [
              "<Figure size 360x360 with 1 Axes>"
            ]
          },
          "metadata": {
            "tags": [],
            "needs_background": "light"
          }
        }
      ]
    },
    {
      "cell_type": "markdown",
      "metadata": {
        "id": "3Gs27XxFYJ2q"
      },
      "source": [
        "# **-----UTILS-----**"
      ]
    },
    {
      "cell_type": "markdown",
      "metadata": {
        "id": "7nLnt5jTYcO8"
      },
      "source": [
        "# **DISPLAYING RESULTS**"
      ]
    },
    {
      "cell_type": "code",
      "metadata": {
        "id": "BvReROrhLAUr"
      },
      "source": [
        "from matplotlib.patches import Circle\n",
        "\n",
        "def imshow(inp, preds):\n",
        "    inp = inp.detach().to('cpu').numpy().transpose((1, 2, 0))\n",
        "    mean = np.array([0.485, 0.456, 0.406])\n",
        "    std = np.array([0.229, 0.224, 0.225])\n",
        "    inp = std * inp + mean\n",
        "    inp = np.clip(inp, 0, 1)\n",
        "    ax.imshow(inp)\n",
        "\n",
        "    for i in range(0,len(preds),2):\n",
        "      xx,yy = (preds[i],preds[i+1])\n",
        "      circ = Circle((xx,yy),5,color='g')\n",
        "      ax.add_patch(circ)\n",
        "\n",
        "    plt.show()"
      ],
      "execution_count": null,
      "outputs": []
    },
    {
      "cell_type": "markdown",
      "metadata": {
        "id": "nh7XLJg_Qafu"
      },
      "source": [
        "# **PRINTING CURRENTLY ALIVE TENSORS AND VARIABLES** "
      ]
    },
    {
      "cell_type": "code",
      "metadata": {
        "id": "4of6ZCKq3if7"
      },
      "source": [
        "# prints currently alive Tensors and Variables\n",
        "import gc\n",
        "for obj in gc.get_objects():\n",
        "    try:\n",
        "        if torch.is_tensor(obj) or (hasattr(obj, 'data') and torch.is_tensor(obj.data)):\n",
        "            print(type(obj), obj.size())\n",
        "    except:\n",
        "        pass"
      ],
      "execution_count": null,
      "outputs": []
    },
    {
      "cell_type": "markdown",
      "metadata": {
        "id": "PU_NuwzpQWfH"
      },
      "source": [
        "# **TRAIN-VALID SPLIT** "
      ]
    },
    {
      "cell_type": "code",
      "metadata": {
        "colab": {
          "base_uri": "https://localhost:8080/"
        },
        "id": "kruEK38dCTlm",
        "outputId": "5364672a-e368-4cad-ff42-f3b5380e9eab"
      },
      "source": [
        "train_set, val_set = torch.utils.data.random_split(train_dataset, [5600, 1015])\n",
        "print('Training set size:',len(train_set))\n",
        "print('Validation set size:',len(val_set))"
      ],
      "execution_count": null,
      "outputs": [
        {
          "output_type": "stream",
          "text": [
            "Training set size: 5600\n",
            "Validation set size: 1015\n"
          ],
          "name": "stdout"
        }
      ]
    }
  ]
}